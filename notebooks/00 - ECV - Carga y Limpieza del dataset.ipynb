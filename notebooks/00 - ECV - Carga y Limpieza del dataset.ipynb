{
 "cells": [
  {
   "cell_type": "markdown",
   "id": "c48a9525-5051-44cb-b74f-f514e3b68509",
   "metadata": {},
   "source": [
    "# Instalacion de librerias\n",
    "#### En primer lugar, nos aseguramos de tener instaladas las librerías necesarias (pandas, numpy, matplotlib, seaborn, scikit-learn). En caso de necesitar alguna, la podemos instalar ejecutando el siguiente bloque de codigo. Sino es necesario, se puede saltar y pasar al siguiente bloque."
   ]
  },
  {
   "cell_type": "code",
   "execution_count": 38,
   "id": "322b46f6-266f-49f6-b713-74dfd63d3770",
   "metadata": {
    "scrolled": true
   },
   "outputs": [],
   "source": [
    "# !pip install pandas\n",
    "# !pip install numpy\n",
    "# !pip install matplotlib\n",
    "# !pip install seaborn\n",
    "# !pip install scikit-learn"
   ]
  },
  {
   "cell_type": "markdown",
   "id": "6b2e46fe-d1fd-4cb3-bd53-2b4b1c320388",
   "metadata": {},
   "source": [
    "# Carga de librerias y del dataset\n",
    "#### Importamos las librerias necesarias, cargamos el dataset y mostramos las primeras lineas del dataset para verificar si la carga fue correcta. En caso de haber un problema, aparecerá un mensaje diciendo que se debe verificar la ruta y el nombre del archivo (si descarga el proyecto, sera necesario ajustar la variable \"file_path\"."
   ]
  },
  {
   "cell_type": "code",
   "execution_count": 4,
   "id": "ef919564-aa33-4557-80cb-88407aabf9b5",
   "metadata": {},
   "outputs": [
    {
     "name": "stdout",
     "output_type": "stream",
     "text": [
      "Dataset 'cardiovascular_disease_dataset.csv' cargado exitosamente.\n",
      "\n",
      "Primeras 5 filas del DataFrame:\n",
      "   patientid  age  gender  chestpain  restingBP  serumcholestrol  \\\n",
      "0     103368   53       1          2        171                0   \n",
      "1     119250   40       1          0         94              229   \n",
      "2     119372   49       1          2        133              142   \n",
      "3     132514   43       1          0        138              295   \n",
      "4     146211   31       1          1        199                0   \n",
      "\n",
      "   fastingbloodsugar  restingrelectro  maxheartrate  exerciseangia  oldpeak  \\\n",
      "0                  0                1           147              0      5.3   \n",
      "1                  0                1           115              0      3.7   \n",
      "2                  0                0           202              1      5.0   \n",
      "3                  1                1           153              0      3.2   \n",
      "4                  0                2           136              0      5.3   \n",
      "\n",
      "   slope  noofmajorvessels  target  \n",
      "0      3                 3       1  \n",
      "1      1                 1       0  \n",
      "2      1                 0       0  \n",
      "3      2                 2       1  \n",
      "4      3                 2       1  \n"
     ]
    }
   ],
   "source": [
    "import pandas as pd\n",
    "import numpy as np\n",
    "import matplotlib.pyplot as plt\n",
    "import seaborn as sns\n",
    "from sklearn.model_selection import train_test_split\n",
    "from sklearn.preprocessing import StandardScaler\n",
    "from sklearn.linear_model import LogisticRegression\n",
    "from sklearn.tree import DecisionTreeClassifier\n",
    "from sklearn.neighbors import KNeighborsClassifier\n",
    "from sklearn.svm import SVC\n",
    "from sklearn.ensemble import RandomForestClassifier, GradientBoostingClassifier\n",
    "from sklearn.metrics import accuracy_score, precision_score, recall_score, f1_score, roc_auc_score, confusion_matrix, classification_report\n",
    "from sklearn.decomposition import PCA\n",
    "\n",
    "#  Cargar el dataset \n",
    "file_path = 'C:/Users/poopy/Documents/00 - Tecnicatura Ciencia de Datos e Inteligencia Artificial/2025/Aprendizaje_Automatico/Trabajo Final/enfermedades_ecv/data/'\n",
    "dir_raw = 'raw/'\n",
    "dir_proc = 'processed/'\n",
    "file_name = 'cardiovascular_disease_dataset.csv'\n",
    "try:\n",
    "    df = pd.read_csv(file_path+dir_raw+file_name)\n",
    "    print(f\"Dataset '{file_name}' cargado exitosamente.\")\n",
    "    # Mostrar las primeras 5 filas del DataFrame\n",
    "    print(\"\\nPrimeras 5 filas del DataFrame:\")\n",
    "    print(df.head())\n",
    "except FileNotFoundError:\n",
    "    print(f\"Error: El archivo '{file_name}' no se encontró. Asegúrate de que el nombre y la ruta sean correctos.\")"
   ]
  },
  {
   "cell_type": "markdown",
   "id": "a7c303f5-933e-4cee-890a-3a3a723346ee",
   "metadata": {},
   "source": [
    "# Exploración Inicial de los Datos\n",
    "#### Ahora describimos los datos y mostramos sus características principales, para asi entender la estructura y el contenido del dataset."
   ]
  },
  {
   "cell_type": "code",
   "execution_count": 6,
   "id": "b3694337-2e2e-461d-9fa8-a94896912f10",
   "metadata": {},
   "outputs": [
    {
     "name": "stdout",
     "output_type": "stream",
     "text": [
      "\n",
      "Dimensiones del DataFrame: 1000 filas, 14 columnas\n"
     ]
    }
   ],
   "source": [
    "# Mostrar el número de filas y columnas (dimensiones del dataset)\n",
    "print(f\"\\nDimensiones del DataFrame: {df.shape[0]} filas, {df.shape[1]} columnas\")"
   ]
  },
  {
   "cell_type": "code",
   "execution_count": 7,
   "id": "c6e828af-d4ea-43a1-a3c9-edc1c62769e6",
   "metadata": {},
   "outputs": [
    {
     "name": "stdout",
     "output_type": "stream",
     "text": [
      "\n",
      "Información detallada del DataFrame:\n",
      "<class 'pandas.core.frame.DataFrame'>\n",
      "RangeIndex: 1000 entries, 0 to 999\n",
      "Data columns (total 14 columns):\n",
      " #   Column             Non-Null Count  Dtype  \n",
      "---  ------             --------------  -----  \n",
      " 0   patientid          1000 non-null   int64  \n",
      " 1   age                1000 non-null   int64  \n",
      " 2   gender             1000 non-null   int64  \n",
      " 3   chestpain          1000 non-null   int64  \n",
      " 4   restingBP          1000 non-null   int64  \n",
      " 5   serumcholestrol    1000 non-null   int64  \n",
      " 6   fastingbloodsugar  1000 non-null   int64  \n",
      " 7   restingrelectro    1000 non-null   int64  \n",
      " 8   maxheartrate       1000 non-null   int64  \n",
      " 9   exerciseangia      1000 non-null   int64  \n",
      " 10  oldpeak            1000 non-null   float64\n",
      " 11  slope              1000 non-null   int64  \n",
      " 12  noofmajorvessels   1000 non-null   int64  \n",
      " 13  target             1000 non-null   int64  \n",
      "dtypes: float64(1), int64(13)\n",
      "memory usage: 109.5 KB\n"
     ]
    }
   ],
   "source": [
    "# Mostrar información general del DataFrame (tipos de datos, valores no nulos, uso de memoria)\n",
    "print(\"\\nInformación detallada del DataFrame:\")\n",
    "df.info()"
   ]
  },
  {
   "cell_type": "markdown",
   "id": "a9684192-0c34-43b9-9f7c-99643f214ae1",
   "metadata": {},
   "source": [
    "#### Podemos ver que el dataset cuenta con 1000 filas (registros de pacientes) y 14 columnas (características), que los tipos de datos de cada columna son int64 y float64 y que no hay valores nulos . "
   ]
  },
  {
   "cell_type": "code",
   "execution_count": 8,
   "id": "5ed48bf3-d106-4b59-923a-9bb7ff6f4117",
   "metadata": {},
   "outputs": [
    {
     "name": "stdout",
     "output_type": "stream",
     "text": [
      "\n",
      "Descripción estadística de las columnas numéricas:\n",
      "          patientid         age       gender    chestpain    restingBP  \\\n",
      "count  1.000000e+03  1000.00000  1000.000000  1000.000000  1000.000000   \n",
      "mean   5.048704e+06    49.24200     0.765000     0.980000   151.747000   \n",
      "std    2.895905e+06    17.86473     0.424211     0.953157    29.965228   \n",
      "min    1.033680e+05    20.00000     0.000000     0.000000    94.000000   \n",
      "25%    2.536440e+06    34.00000     1.000000     0.000000   129.000000   \n",
      "50%    4.952508e+06    49.00000     1.000000     1.000000   147.000000   \n",
      "75%    7.681877e+06    64.25000     1.000000     2.000000   181.000000   \n",
      "max    9.990855e+06    80.00000     1.000000     3.000000   200.000000   \n",
      "\n",
      "       serumcholestrol  fastingbloodsugar  restingrelectro  maxheartrate  \\\n",
      "count      1000.000000        1000.000000      1000.000000   1000.000000   \n",
      "mean        311.447000           0.296000         0.748000    145.477000   \n",
      "std         132.443801           0.456719         0.770123     34.190268   \n",
      "min           0.000000           0.000000         0.000000     71.000000   \n",
      "25%         235.750000           0.000000         0.000000    119.750000   \n",
      "50%         318.000000           0.000000         1.000000    146.000000   \n",
      "75%         404.250000           1.000000         1.000000    175.000000   \n",
      "max         602.000000           1.000000         2.000000    202.000000   \n",
      "\n",
      "       exerciseangia      oldpeak        slope  noofmajorvessels       target  \n",
      "count    1000.000000  1000.000000  1000.000000       1000.000000  1000.000000  \n",
      "mean        0.498000     2.707700     1.540000          1.222000     0.580000  \n",
      "std         0.500246     1.720753     1.003697          0.977585     0.493805  \n",
      "min         0.000000     0.000000     0.000000          0.000000     0.000000  \n",
      "25%         0.000000     1.300000     1.000000          0.000000     0.000000  \n",
      "50%         0.000000     2.400000     2.000000          1.000000     1.000000  \n",
      "75%         1.000000     4.100000     2.000000          2.000000     1.000000  \n",
      "max         1.000000     6.200000     3.000000          3.000000     1.000000  \n"
     ]
    }
   ],
   "source": [
    "# Descripción estadística de las columnas numéricas\n",
    "print(\"\\nDescripción estadística de las columnas numéricas:\")\n",
    "print(df.describe())"
   ]
  },
  {
   "cell_type": "markdown",
   "id": "98ec6b22-4250-4f9e-ba90-420d3764bb29",
   "metadata": {},
   "source": [
    "#### Tambien podemos ver un resumen estadístico de las columnas numéricas (conteo, media, desviación estándar, mínimos, máximos, cuartiles), útil para detectar anomalías o rangos inusuales, que a simple vista no se observa ninguna. \n"
   ]
  },
  {
   "cell_type": "code",
   "execution_count": 9,
   "id": "8dee39cc-88a4-426b-aa32-dfff20fc51e0",
   "metadata": {},
   "outputs": [
    {
     "name": "stdout",
     "output_type": "stream",
     "text": [
      "\n",
      "Conteo de valores únicos por columna:\n",
      "- 'patientid': 1000 valores únicos\n",
      "- 'age': 61 valores únicos\n",
      "- 'gender': 2 valores únicos\n",
      "  Valores únicos: [0, 1]\n",
      "- 'chestpain': 4 valores únicos\n",
      "  Valores únicos: [0, 1, 2, 3]\n",
      "- 'restingBP': 95 valores únicos\n",
      "- 'serumcholestrol': 344 valores únicos\n",
      "- 'fastingbloodsugar': 2 valores únicos\n",
      "  Valores únicos: [0, 1]\n",
      "- 'restingrelectro': 3 valores únicos\n",
      "  Valores únicos: [0, 1, 2]\n",
      "- 'maxheartrate': 129 valores únicos\n",
      "- 'exerciseangia': 2 valores únicos\n",
      "  Valores únicos: [0, 1]\n",
      "- 'oldpeak': 63 valores únicos\n",
      "- 'slope': 4 valores únicos\n",
      "  Valores únicos: [0, 1, 2, 3]\n",
      "- 'noofmajorvessels': 4 valores únicos\n",
      "  Valores únicos: [0, 1, 2, 3]\n",
      "- 'target': 2 valores únicos\n",
      "  Valores únicos: [0, 1]\n"
     ]
    }
   ],
   "source": [
    "# Contar valores únicos por columna para identificar columnas categóricas y su cardinalidad\n",
    "print(\"\\nConteo de valores únicos por columna:\")\n",
    "for column in df.columns:\n",
    "    unique_count = df[column].nunique()\n",
    "    print(f\"- '{column}': {unique_count} valores únicos\")\n",
    "    if unique_count < 20 and df[column].dtype == 'object' or df[column].dtype == 'int64' and unique_count < 10:\n",
    "        print(f\"  Valores únicos: {sorted(df[column].unique())}\")"
   ]
  },
  {
   "cell_type": "markdown",
   "id": "dc1eb4a2-ce3e-4dd9-b4b5-364b6e83c7a6",
   "metadata": {},
   "source": [
    "#### Como ultimo paso, se intenta identificar de manera automatica columnas categóricas y ver sus posibles valores. En este caso se puede observar que hay varias columnas categóricas y que las mismas ya se encuentran convertidas a valores numericos."
   ]
  },
  {
   "cell_type": "markdown",
   "id": "02e8295a-fe22-4da9-8556-a51fa85623f3",
   "metadata": {},
   "source": [
    "# Limpieza de datos\n",
    "\n",
    "#### Procedemos a realizar la limpieza de los datos en caso de ser necesario, verificando valores faltantes, duplicados, outliers y, si se identifican, posibles inconsistencias en columnas categóricas."
   ]
  },
  {
   "cell_type": "markdown",
   "id": "6cbc0a72-cf86-4cfc-bce3-65bcd7535a7c",
   "metadata": {},
   "source": [
    "* ## Valores faltantes"
   ]
  },
  {
   "cell_type": "code",
   "execution_count": 13,
   "id": "1b43fd6c-070f-44b3-b37a-0624a08fed2e",
   "metadata": {},
   "outputs": [
    {
     "name": "stdout",
     "output_type": "stream",
     "text": [
      "\n",
      "Valores faltantes por columna antes de la limpieza:\n",
      "patientid            0\n",
      "age                  0\n",
      "gender               0\n",
      "chestpain            0\n",
      "restingBP            0\n",
      "serumcholestrol      0\n",
      "fastingbloodsugar    0\n",
      "restingrelectro      0\n",
      "maxheartrate         0\n",
      "exerciseangia        0\n",
      "oldpeak              0\n",
      "slope                0\n",
      "noofmajorvessels     0\n",
      "target               0\n",
      "dtype: int64\n"
     ]
    }
   ],
   "source": [
    "#  Valores faltantes (NaN) \n",
    "print(\"\\nValores faltantes por columna antes de la limpieza:\")\n",
    "missing_values = df.isnull().sum()\n",
    "print(missing_values)"
   ]
  },
  {
   "cell_type": "markdown",
   "id": "05a9ed2c-916e-4e70-8914-a42e15ee3b4e",
   "metadata": {},
   "source": [
    "#### Se puede ver no hay valores faltantes. En caso de haber valores faltantes, se evaluaria si se eliminan las filas afectadas (por cantidad baja o por ser datos de poca relevancia) o se procede a completar los mismos (por cantidad alta de datos faltantes o porque los datos a eliminar son importantes), pero al no haber valore faltantes, no se realizara ninguna acciona al respecto."
   ]
  },
  {
   "cell_type": "markdown",
   "id": "fbff130d-48a8-434b-8841-c1d8708eb4d7",
   "metadata": {},
   "source": [
    "* ## Filas duplicadas"
   ]
  },
  {
   "cell_type": "code",
   "execution_count": 16,
   "id": "92958103-663b-4f56-b135-76ce16204eed",
   "metadata": {},
   "outputs": [
    {
     "name": "stdout",
     "output_type": "stream",
     "text": [
      "\n",
      "Número de filas duplicadas antes de la limpieza:\n",
      "0\n",
      "No se encontraron filas duplicadas.\n"
     ]
    }
   ],
   "source": [
    "#  Filas duplicadas \n",
    "print(\"\\nNúmero de filas duplicadas antes de la limpieza:\")\n",
    "duplicated_rows = df.duplicated().sum()\n",
    "print(duplicated_rows)\n",
    "\n",
    "if duplicated_rows > 0:\n",
    "    df.drop_duplicates(inplace=True)\n",
    "    print(f\"Filas duplicadas eliminadas: {duplicated_rows}\")\n",
    "    print(f\"Dimensiones del DataFrame después de eliminar duplicados: {df.shape}\")\n",
    "else:\n",
    "    print(\"No se encontraron filas duplicadas.\")"
   ]
  },
  {
   "cell_type": "markdown",
   "id": "85e08ad5-384d-410d-b305-ed43c5bb6ca5",
   "metadata": {},
   "source": [
    "#### Se puede ver que el dataset no tiene registros duplicados. En caso de haberlos tenido, se habrian eliminado automaticamente y se podria ver la cantidad en pantalla."
   ]
  },
  {
   "cell_type": "markdown",
   "id": "15446534-a49e-4501-949d-278bbffbef60",
   "metadata": {},
   "source": [
    "* ## Eliminacion de columnas innecesarias"
   ]
  },
  {
   "cell_type": "code",
   "execution_count": 19,
   "id": "7c74fc88-f21e-4e5b-a2d5-6973cd4e7248",
   "metadata": {},
   "outputs": [
    {
     "name": "stdout",
     "output_type": "stream",
     "text": [
      "\n",
      "Columna 'patientid' eliminada.\n"
     ]
    }
   ],
   "source": [
    "# Asumimos que patientid no es una característica para el modelo.\n",
    "df.drop('patientid', axis=1, inplace=True)\n",
    "print(\"\\nColumna 'patientid' eliminada.\")"
   ]
  },
  {
   "cell_type": "markdown",
   "id": "d6ede27e-1ed5-4646-a51a-1da480330319",
   "metadata": {},
   "source": [
    "#### Esta columna es un identificador y no debe usarse como característica para el modelo, por lo que la eliminamos."
   ]
  },
  {
   "cell_type": "markdown",
   "id": "dc66fa73-e161-4d08-8b4d-e6e66bc958ba",
   "metadata": {},
   "source": [
    "* ## Codificacion de variables categoricas\n",
    "#### Como ya pudimos observar en la exploracion inicial de datos, todas la s variables categoricas ya estan codificadas:\n",
    "Conteo de valores únicos por columna:\n",
    "- 'gender': 2 valores únicos [0, 1]\n",
    "- 'chestpain': 4 valores únicos [0, 1, 2, 3]\n",
    "- 'fastingbloodsugar': 2 valores únicos [0, 1]\n",
    "- 'restingrelectro': 3 valores únicos [0, 1, 2]\n",
    "- 'exerciseangia': 2 valores únicos [0, 1]\n",
    "- 'slope': 4 valores únicos [0, 1, 2, 3]\n",
    "- 'noofmajorvessels': 4 valores únicos [0, 1, 2, 3]\n",
    "- 'target': 2 valores únicos [0, 1]\n",
    "#### por lo que no es necesario codificarlas."
   ]
  },
  {
   "cell_type": "markdown",
   "id": "68c9bc9a-6034-4c92-af25-6efb642f0b2a",
   "metadata": {},
   "source": [
    "* ## Verificacion de que la variable \"target\" este balanceada"
   ]
  },
  {
   "cell_type": "code",
   "execution_count": 23,
   "id": "0731c576-010f-4afd-b76d-5144c5e80af6",
   "metadata": {},
   "outputs": [
    {
     "name": "stdout",
     "output_type": "stream",
     "text": [
      "\n",
      " Conteo de registros por clase en la columna 'target' después de la limpieza \n",
      "target\n",
      "1    580\n",
      "0    420\n",
      "Name: count, dtype: int64\n",
      "\n",
      " -> La clase objetivo está balanceada.\n",
      "\n"
     ]
    },
    {
     "data": {
      "image/png": "[encoded data removed]",
      "text/plain": [
       "<Figure size 600x400 with 1 Axes>"
      ]
     },
     "metadata": {},
     "output_type": "display_data"
    }
   ],
   "source": [
    "#  Conteo de registros por clase en la columna 'target' \n",
    "print(\"\\n Conteo de registros por clase en la columna 'target' después de la limpieza \")\n",
    "target_counts = df['target'].value_counts()\n",
    "print(target_counts)\n",
    "\n",
    "# Verificacion que el valor mas bajo capte al menos un 20% de los registros para que no afecte a los modelos.\n",
    "if target_counts.min() / target_counts.sum() < 0.2:\n",
    "    print(\"\\nAdvertencia: La clase objetivo está desbalanceada. Esto podría afectar el rendimiento del modelo.\")\n",
    "    print(\"Se deberia considerar técnicas como SMOTE, sobremuestreo o submuestreo durante el entrenamiento.\")\n",
    "else: print(\"\\n -> La clase objetivo está balanceada.\\n\")\n",
    "\n",
    "# Visualizacion de la distribución de la variable objetivo.\n",
    "plt.figure(figsize=(6, 4))\n",
    "sns.countplot(x='target', data=df)\n",
    "plt.title('Distribución de la Variable Objetivo (0: No enfermedad, 1: Enfermedad)')\n",
    "plt.xlabel('Target')\n",
    "plt.ylabel('Número de Registros')\n",
    "plt.xticks(ticks=[0, 1], labels=['No Enfermedad', 'Enfermedad'])\n",
    "plt.grid(axis='y', linestyle='--', alpha=0.7)\n",
    "plt.show()"
   ]
  },
  {
   "cell_type": "markdown",
   "id": "f7e9fde1-4869-4a70-b315-c424820fbe55",
   "metadata": {},
   "source": [
    "#### Se puede ver que la clase objetivo esta balanceada. Esto es importante ya que un desequilibrio puede sesgar el modelo, y se necesitarían técnicas especiales (como SMOTE o clase_weight en los modelos) para manejarlo."
   ]
  },
  {
   "cell_type": "markdown",
   "id": "6ca9d6ae-3392-4d1e-8c00-ca35bc3d03c7",
   "metadata": {},
   "source": [
    "# Guardado del dataset \n",
    "#### Guardamos el dataset en su hubicacion correspondiente. Al igual que al cvargar el archivo, verificar la ruta (si descarga el proyecto, sera necesario ajustar la variable \"file_path\" al inicio del archivo)."
   ]
  },
  {
   "cell_type": "code",
   "execution_count": 26,
   "id": "fb0902f6-c5a8-4adb-9010-5aa64af9466c",
   "metadata": {},
   "outputs": [
    {
     "name": "stdout",
     "output_type": "stream",
     "text": [
      "Dataset 'cardiovascular_disease_dataset.csv' guardado exitosamente.\n"
     ]
    }
   ],
   "source": [
    "df.to_csv(file_path+dir_proc+file_name, index=False, encoding='utf-8')\n",
    "print(f\"Dataset '{file_name}' guardado exitosamente.\")"
   ]
  }
 ],
 "metadata": {
  "kernelspec": {
   "display_name": "Python 3 (ipykernel)",
   "language": "python",
   "name": "python3"
  },
  "language_info": {
   "codemirror_mode": {
    "name": "ipython",
    "version": 3
   },
   "file_extension": ".py",
   "mimetype": "text/x-python",
   "name": "python",
   "nbconvert_exporter": "python",
   "pygments_lexer": "ipython3",
   "version": "3.11.7"
  }
 },
 "nbformat": 4,
 "nbformat_minor": 5
}
